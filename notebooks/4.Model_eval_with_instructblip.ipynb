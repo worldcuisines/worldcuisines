{
 "cells": [
  {
   "cell_type": "markdown",
   "id": "4c12c749",
   "metadata": {},
   "source": [
    "# InstructBLIP Eval Code"
   ]
  },
  {
   "cell_type": "code",
   "execution_count": null,
   "id": "f62817d3",
   "metadata": {},
   "outputs": [],
   "source": [
    "!pip install torch transformers Pillow scikit-learn numba"
   ]
  },
  {
   "cell_type": "markdown",
   "id": "56824db1",
   "metadata": {},
   "source": [
    "## Test Script"
   ]
  },
  {
   "cell_type": "code",
   "execution_count": null,
   "id": "bab76682",
   "metadata": {},
   "outputs": [],
   "source": [
    "from transformers import InstructBlipProcessor, InstructBlipForConditionalGeneration\n",
    "import torch\n",
    "from PIL import Image\n",
    "import requests\n",
    "from numba import cuda\n",
    "\n",
    "cuda.select_device(0) #COMMENT THIS IF NOT USED!!\n",
    "cuda.close()\n",
    "\n",
    "model = InstructBlipForConditionalGeneration.from_pretrained(\"Salesforce/instructblip-vicuna-13b\")\n",
    "processor = InstructBlipProcessor.from_pretrained(\"Salesforce/instructblip-vicuna-13b\")\n",
    "\n",
    "device = \"cuda\" if torch.cuda.is_available() else \"cpu\"\n",
    "model.half()  # Use float16 to reduce memory usage\n",
    "model.to(device)\n",
    "\n",
    "\n",
    "url = \"https://raw.githubusercontent.com/salesforce/LAVIS/main/docs/_static/Confusing-Pictures.jpg\"\n",
    "image = Image.open(requests.get(url, stream=True).raw).convert(\"RGB\")\n",
    "prompt = \"What is unusual about this image?\"\n",
    "inputs = processor(images=image, text=prompt, return_tensors=\"pt\").to(device)\n",
    "\n",
    "outputs = model.generate(\n",
    "        **inputs,\n",
    "        do_sample=True,\n",
    "        max_length=30,  # Reduce max_length\n",
    "        top_p=0.1,\n",
    "        temperature=0.1,\n",
    ")\n",
    "\n",
    "generated_text = processor.batch_decode(outputs, skip_special_tokens=True)[0].strip()\n",
    "print(generated_text)\n"
   ]
  },
  {
   "cell_type": "markdown",
   "id": "92e84f0c",
   "metadata": {},
   "source": [
    "## Libs"
   ]
  },
  {
   "cell_type": "code",
   "execution_count": 1,
   "id": "da07b3e7",
   "metadata": {},
   "outputs": [],
   "source": [
    "import requests\n",
    "from PIL import Image\n",
    "from io import BytesIO\n",
    "import re\n",
    "import torch\n",
    "import numpy as np\n",
    "from sklearn.preprocessing import normalize\n",
    "from transformers import InstructBlipProcessor, InstructBlipForConditionalGeneration"
   ]
  },
  {
   "cell_type": "markdown",
   "id": "f506dcd0",
   "metadata": {},
   "source": [
    "## Logits Calculator"
   ]
  },
  {
   "cell_type": "code",
   "execution_count": 2,
   "id": "bd83acc9",
   "metadata": {},
   "outputs": [],
   "source": [
    "def calculate_log_prob(model, tokenizer, prefix, targets):\n",
    "    log_sums = []\n",
    "    for target in targets:\n",
    "        input_tokens = tokenizer.encode(prefix, add_special_tokens=False, return_tensors='pt')\n",
    "        output_tokens = tokenizer.encode(target, add_special_tokens=False, return_tensors='pt')\n",
    "\n",
    "        tokens = torch.cat([input_tokens, output_tokens], dim=1)\n",
    "        with torch.no_grad():\n",
    "            outputs = model(tokens)\n",
    "            logits = outputs.logits\n",
    "\n",
    "        log_sum = 0\n",
    "        range_index = range(input_tokens.shape[1] - 1, tokens.shape[1] - 1)\n",
    "        len_range = tokens.shape[1] - 1 - (input_tokens.shape[1] - 1) \n",
    "        for i in range_index:\n",
    "            past_tok, current_tok = i, i + 1\n",
    "            token_logit = logits[0, past_tok, :]\n",
    "            token_log_probs = torch.nn.functional.log_softmax(token_logit, dim=-1)\n",
    "            log_token_prob = token_log_probs[tokens[0, current_tok]].item()\n",
    "            log_sum += log_token_prob\n",
    "\n",
    "        log_sums.append(log_sum / len_range)\n",
    "\n",
    "    normalized_scores = normalize(log_sums)\n",
    "    pred = targets[np.argmax(normalized_scores)]\n",
    "    return pred, normalized_scores"
   ]
  },
  {
   "cell_type": "markdown",
   "id": "27f8a874",
   "metadata": {},
   "source": [
    "## Non-Model Helpers"
   ]
  },
  {
   "cell_type": "code",
   "execution_count": 3,
   "id": "5ffc8d8a",
   "metadata": {},
   "outputs": [],
   "source": [
    "def image_parser(image_file):\n",
    "    out = image_file.split(',')\n",
    "    return out\n",
    "\n",
    "\n",
    "def load_image(image_file):\n",
    "    if image_file.startswith(\"http\") or image_file.startswith(\"https\"):\n",
    "        response = requests.get(image_file)\n",
    "        image = Image.open(BytesIO(response.content)).convert(\"RGB\")\n",
    "    else:\n",
    "        image = Image.open(image_file).convert(\"RGB\")\n",
    "    return image\n",
    "\n",
    "\n",
    "def load_images(image_files):\n",
    "    out = []\n",
    "    for image_file in image_files:\n",
    "        image = load_image(image_file)\n",
    "        out.append(image)\n",
    "    return out"
   ]
  },
  {
   "cell_type": "markdown",
   "id": "3897bf86",
   "metadata": {},
   "source": [
    "## Inference Helpers"
   ]
  },
  {
   "cell_type": "code",
   "execution_count": 4,
   "id": "eec25be1",
   "metadata": {},
   "outputs": [],
   "source": [
    "def count_all_parameters(model):\n",
    "    return sum(p.numel() for p in model.parameters())\n",
    "\n",
    "def load_model_processor(model_path,fp_16=True):\n",
    "    model = InstructBlipForConditionalGeneration.from_pretrained(model_path)\n",
    "    processor = InstructBlipProcessor.from_pretrained(model_path)\n",
    "    \n",
    "    device = \"cuda\" if torch.cuda.is_available() else \"cpu\"\n",
    "    if fp_16:\n",
    "        model.half()\n",
    "    model.to(device)\n",
    "    \n",
    "    return model, processor, device\n",
    "\n",
    "\n",
    "def eval_model(model, processor, image_files, query, options,device='cuda'):\n",
    "    image_files = image_parser(image_files) \n",
    "    images = load_images(image_files)\n",
    "\n",
    "    log_lik_scores = []\n",
    "\n",
    "    for image in images:\n",
    "        images_tensor = processor(images=image, return_tensors=\"pt\").pixel_values.to(device).half() # cast to fp16\n",
    "\n",
    "        for option in options:\n",
    "            target_prompt = query + ' ' + option\n",
    "\n",
    "            inputs = processor(text=target_prompt, return_tensors=\"pt\").to(device)\n",
    "            input_ids = inputs.input_ids\n",
    "            attention_mask = inputs.attention_mask\n",
    "\n",
    "            # Mandatory q-former for InstructBLIP\n",
    "            qformer_inputs = processor(images=image, text=target_prompt, return_tensors=\"pt\").to(device)\n",
    "            qformer_input_ids = qformer_inputs.input_ids\n",
    "\n",
    "            with torch.inference_mode(), torch.cuda.amp.autocast():\n",
    "                outputs = model(\n",
    "                    input_ids=input_ids,\n",
    "                    labels=input_ids,\n",
    "                    attention_mask=attention_mask,\n",
    "                    pixel_values=images_tensor, #float-16\n",
    "                    qformer_input_ids=qformer_input_ids, #required\n",
    "                )\n",
    "\n",
    "            log_lik_scores.append((option, -outputs.loss.item()))\n",
    "\n",
    "    pred_id = np.argmax(np.asarray([x[1] for x in log_lik_scores]))\n",
    "    print(log_lik_scores)\n",
    "    print('Prediction: {}'.format(log_lik_scores[pred_id]))\n",
    "    return log_lik_scores[pred_id]"
   ]
  },
  {
   "cell_type": "code",
   "execution_count": 5,
   "id": "fbbe0886",
   "metadata": {},
   "outputs": [
    {
     "data": {
      "application/vnd.jupyter.widget-view+json": {
       "model_id": "4166b43fb81a4ff3bdeba747c88366ec",
       "version_major": 2,
       "version_minor": 0
      },
      "text/plain": [
       "Loading checkpoint shards:   0%|          | 0/6 [00:00<?, ?it/s]"
      ]
     },
     "metadata": {},
     "output_type": "display_data"
    },
    {
     "name": "stderr",
     "output_type": "stream",
     "text": [
      "You are using the default legacy behaviour of the <class 'transformers.models.llama.tokenization_llama_fast.LlamaTokenizerFast'>. This is expected, and simply means that the `legacy` (previous) behavior will be used so nothing changes for you. If you want to use the new behaviour, set `legacy=False`. This should only be set if you understand what it means, and thoroughly read the reason why this was added as explained in https://github.com/huggingface/transformers/pull/24565 - if you loaded a llama tokenizer from a GGUF file you can ignore this message.\n",
      "Expanding inputs for image tokens in InstructBLIP should be done in processing. Please follow instruction here (https://gist.github.com/zucchini-nlp/e9f20b054fa322f84ac9311d9ab67042) to update your InstructBLIP model. Using processors without these attributes in the config is deprecated and will throw an error in v4.47.\n",
      "/tmp/ipykernel_2149/3177057342.py:36: FutureWarning: `torch.cuda.amp.autocast(args...)` is deprecated. Please use `torch.amp.autocast('cuda', args...)` instead.\n",
      "  with torch.inference_mode(), torch.cuda.amp.autocast():\n",
      "Expanding inputs for image tokens in InstructBLIP should be done in processing. Please follow instruction here (https://gist.github.com/zucchini-nlp/e9f20b054fa322f84ac9311d9ab67042) to update your InstructBLIP model. Using processors without these attributes in the config is deprecated and will throw an error in v4.47.\n",
      "Starting from v4.46, the `logits` model output will have the same type as the model (except at train time, where it will always be FP32)\n"
     ]
    },
    {
     "name": "stdout",
     "output_type": "stream",
     "text": [
      "[('This is an image of a nasi goreng', -2.786306381225586), ('This is an image of a nasi uduk', -3.217968463897705), ('This is an image of a laksa', -3.9249234199523926), ('This is an image of a nasi kuning', -3.511770725250244)]\n",
      "Prediction: ('This is an image of a nasi goreng', -2.786306381225586)\n"
     ]
    }
   ],
   "source": [
    "from numba import cuda\n",
    "\n",
    "if __name__ == '__main__':    \n",
    "\n",
    "#     cuda.select_device(0) #COMMENT THIS IF NOT USED!!\n",
    "#     cuda.close()\n",
    "    \n",
    "    model_path = \"Salesforce/instructblip-vicuna-13b\"\n",
    "    model,processor, device = load_model_processor(model_path, fp_16=True)\n",
    "\n",
    "    prompt = \"What is this dish name?\"\n",
    "    image_file = \"https://eatwellabi.com/wp-content/uploads/2019/01/IMG_5172-500x375.jpg\"\n",
    "\n",
    "    shared_prompt = 'This is an image of a '\n",
    "    options = [shared_prompt+x for x in ['nasi goreng', 'nasi uduk', 'laksa', 'nasi kuning']]\n",
    "\n",
    "    eval_model(\n",
    "        model = model,\n",
    "        processor = processor,\n",
    "        image_files = image_file,\n",
    "        query = prompt,\n",
    "        options = options,\n",
    "        device = device,\n",
    "    )"
   ]
  }
 ],
 "metadata": {
  "kernelspec": {
   "display_name": "wc_env",
   "language": "python",
   "name": "wc_env"
  },
  "language_info": {
   "codemirror_mode": {
    "name": "ipython",
    "version": 3
   },
   "file_extension": ".py",
   "mimetype": "text/x-python",
   "name": "python",
   "nbconvert_exporter": "python",
   "pygments_lexer": "ipython3",
   "version": "3.10.15"
  }
 },
 "nbformat": 4,
 "nbformat_minor": 5
}
